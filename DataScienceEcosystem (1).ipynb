{
 "cells": [
  {
   "cell_type": "markdown",
   "id": "7a4ae73d-5058-42c1-9b2c-8644c01b486c",
   "metadata": {},
   "source": [
    "# Data Science Tools and Ecosystem"
   ]
  },
  {
   "cell_type": "markdown",
   "id": "8b8f6b89-0945-42f0-9673-5b78e0cbfc85",
   "metadata": {},
   "source": [
    "In this notebook, Data Science Tools and Ecosystem are summarized."
   ]
  },
  {
   "cell_type": "markdown",
   "id": "dcbf2384-34b8-4a40-9064-7549740fc09b",
   "metadata": {},
   "source": [
    "Some of the commonly used libraries used by Data Scientists include:\n",
    "1.NumPy\n",
    "2.Pandas\n",
    "3.SciPy"
   ]
  },
  {
   "cell_type": "markdown",
   "id": "efbd87c5-cb9c-40e4-8250-3664df9d6281",
   "metadata": {},
   "source": [
    "Some of the popular languages that Data Scientists use are:\n",
    "1.Python \n",
    "2.SQL \n",
    "3.Java\n",
    "4.Scala"
   ]
  },
  {
   "cell_type": "markdown",
   "id": "94767e58-1813-47f3-a83a-437545060c48",
   "metadata": {},
   "source": [
    "| Data Science Tools   |\n",
    "|----------------------|\n",
    "| Jupyter Notebook     |\n",
    "| RStudio              |\n",
    "| Apache Zeppelin      |"
   ]
  },
  {
   "cell_type": "markdown",
   "id": "ca3d5389-f140-4c49-ae50-a46c84ab7910",
   "metadata": {},
   "source": [
    "### Below are a few examples of evaluating arithmetic expressions in Python.\n",
    "\n",
    "1. Addition: `2 + 3 = 5`\n",
    "2. Subtraction: `7 - 4 = 3`\n",
    "3. Multiplication: `3 * 4 = 12`\n",
    "4. Division: `8 / 2 = 4`\n",
    "5. Exponentiation: `2 ** 3 = 8`\n",
    "6. Modulus: `10 % 3 = 1`\n"
   ]
  },
  {
   "cell_type": "code",
   "execution_count": 1,
   "id": "5c295b05-473e-401b-aff3-8480b6e92e05",
   "metadata": {
    "tags": []
   },
   "outputs": [
    {
     "data": {
      "text/plain": [
       "17"
      ]
     },
     "execution_count": 1,
     "metadata": {},
     "output_type": "execute_result"
    }
   ],
   "source": [
    "# This is a simple arithmetic expression to multiply then add integers\n",
    "result = (3 * 4) + 5\n",
    "result\n"
   ]
  },
  {
   "cell_type": "code",
   "execution_count": 2,
   "id": "26717f3f-3b58-44af-b5a3-de14a0beaaf8",
   "metadata": {
    "tags": []
   },
   "outputs": [
    {
     "data": {
      "text/plain": [
       "3.3333333333333335"
      ]
     },
     "execution_count": 2,
     "metadata": {},
     "output_type": "execute_result"
    }
   ],
   "source": [
    "# This will convert 200 minutes to hours by dividing by 60\n",
    "minutes = 200\n",
    "hours = minutes / 60\n",
    "hours\n"
   ]
  },
  {
   "cell_type": "markdown",
   "id": "74aaeb9f-401f-497b-b460-74df511b8749",
   "metadata": {},
   "source": [
    "**Objectives:**\n",
    "\n",
    "- List popular languages for Data Science\n",
    "- Describe various data science tools and libraries\n",
    "- Demonstrate basic arithmetic operations in Python\n",
    "- Convert time units and perform simple calculations\n",
    "- Understand and use markdown for documentation in Jupyter Notebooks\n"
   ]
  },
  {
   "cell_type": "markdown",
   "id": "138fcb40-78a6-4627-86e6-02ce87fac0b3",
   "metadata": {},
   "source": [
    "## Author\n",
    "\n",
    "[ MUZTAHIDUL ISLAM NOON ]\n"
   ]
  },
  {
   "cell_type": "code",
   "execution_count": null,
   "id": "ba57cef8-278f-4422-a1de-4e2fd3995e6e",
   "metadata": {},
   "outputs": [],
   "source": []
  }
 ],
 "metadata": {
  "kernelspec": {
   "display_name": "Python",
   "language": "python",
   "name": "conda-env-python-py"
  },
  "language_info": {
   "codemirror_mode": {
    "name": "ipython",
    "version": 3
   },
   "file_extension": ".py",
   "mimetype": "text/x-python",
   "name": "python",
   "nbconvert_exporter": "python",
   "pygments_lexer": "ipython3",
   "version": "3.7.12"
  }
 },
 "nbformat": 4,
 "nbformat_minor": 5
}
